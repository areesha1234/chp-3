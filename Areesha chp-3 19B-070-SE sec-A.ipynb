{
 "cells": [
  {
   "cell_type": "markdown",
   "metadata": {},
   "source": [
    "# Areesha 19B-070-SE sec-A chp-3"
   ]
  },
  {
   "cell_type": "code",
   "execution_count": 2,
   "metadata": {},
   "outputs": [
    {
     "name": "stdout",
     "output_type": "stream",
     "text": [
      "Enter temperature in degree Fahrenheit: 67\n",
      "The temperature in degree celsius is:  19.444444444444446\n"
     ]
    }
   ],
   "source": [
    "#3.1\n",
    "f = eval(input(\"Enter temperature in degree Fahrenheit: \"))\n",
    "celsius = 5/9*(f-32)\n",
    "print(\"The temperature in degree celsius is: \",celsius)"
   ]
  },
  {
   "cell_type": "code",
   "execution_count": 58,
   "metadata": {},
   "outputs": [
    {
     "name": "stdout",
     "output_type": "stream",
     "text": [
      "Enter your age: 18\n"
     ]
    }
   ],
   "source": [
    "#3.2\n",
    "#part a\n",
    "age = int(input(\"Enter your age: \"))\n",
    "if age > 62:\n",
    "    print(\"you can get your pension benefits\")"
   ]
  },
  {
   "cell_type": "code",
   "execution_count": 60,
   "metadata": {},
   "outputs": [
    {
     "name": "stdout",
     "output_type": "stream",
     "text": [
      "Enter the hits: 13\n",
      "Enter the shield: 0\n",
      "you are dead\n"
     ]
    }
   ],
   "source": [
    "#c\n",
    "hit = int(input(\"Enter the hits: \"))\n",
    "shield = int(input(\"Enter the shield: \"))\n",
    "if hit > 10 and shield == 0:\n",
    "    print(\"you are dead\")"
   ]
  },
  {
   "cell_type": "code",
   "execution_count": 61,
   "metadata": {},
   "outputs": [
    {
     "name": "stdout",
     "output_type": "stream",
     "text": [
      "Enter the direction: east\n",
      "I can Escape\n"
     ]
    }
   ],
   "source": [
    "#d\n",
    "direction = str(input(\"Enter the direction: \"))\n",
    "x = direction.casefold()\n",
    "if (x == \"east\") or (x == \"west\") or (x == \"north\") or ( x == \"south\"):\n",
    "    print(\"I can Escape\")"
   ]
  },
  {
   "cell_type": "code",
   "execution_count": 62,
   "metadata": {},
   "outputs": [
    {
     "name": "stdout",
     "output_type": "stream",
     "text": [
      "Enter the year: 2019\n",
      "Definitely not a leap year\n"
     ]
    }
   ],
   "source": [
    "#3.3\n",
    "# part a\n",
    "year = int(input(\"Enter the year: \"))\n",
    "x = year % 4\n",
    "#print(x)\n",
    "if x == 0:\n",
    "    print(\"Could be a leap year\")\n",
    "else:\n",
    "    print(\"Definitely not a leap year\")"
   ]
  },
  {
   "cell_type": "code",
   "execution_count": 64,
   "metadata": {},
   "outputs": [
    {
     "name": "stdout",
     "output_type": "stream",
     "text": [
      "Enter your ticket number: 124\n",
      "You won!\n"
     ]
    }
   ],
   "source": [
    "#b\n",
    "list_lottery = [123, 124, 125, 126, 127, 128, 129]\n",
    "list_ticket = int(input(\"Enter your ticket number: \"))\n",
    "if list_ticket in list_lottery:\n",
    "    print(\"You won!\")\n",
    "else:\n",
    "    print(\"Better luck next time\")"
   ]
  },
  {
   "cell_type": "code",
   "execution_count": 65,
   "metadata": {},
   "outputs": [
    {
     "name": "stdout",
     "output_type": "stream",
     "text": [
      "Enter your login id: sue\n",
      "you are in\n",
      "done\n"
     ]
    }
   ],
   "source": [
    "#3.4\n",
    "name_list = [\"joe\", \"sue\", \"hani\", \"sophie\"]\n",
    "login_id = str(input(\"Enter your login id: \"))\n",
    "if login_id in name_list:\n",
    "    print(\"you are in\")\n",
    "else:\n",
    "    print(\"User unknown\")\n",
    "print(\"done\")"
   ]
  },
  {
   "cell_type": "code",
   "execution_count": 66,
   "metadata": {},
   "outputs": [
    {
     "name": "stdout",
     "output_type": "stream",
     "text": [
      "stop\n",
      "post\n"
     ]
    }
   ],
   "source": [
    "#3.5\n",
    "wordlist = [\"stop\", \"desktop\", \"top\", \"post\"]\n",
    "for word in wordlist:\n",
    "    if len(word) == 4:\n",
    "        print(word)"
   ]
  },
  {
   "cell_type": "code",
   "execution_count": 2,
   "metadata": {},
   "outputs": [
    {
     "name": "stdout",
     "output_type": "stream",
     "text": [
      "0\n",
      "1\n",
      "2\n",
      "3\n",
      "4\n",
      "5\n",
      "6\n",
      "7\n",
      "8\n",
      "9\n"
     ]
    }
   ],
   "source": [
    "#3.6\n",
    "#a\n",
    "for i in range(0,10):\n",
    "    print(i)"
   ]
  },
  {
   "cell_type": "code",
   "execution_count": 3,
   "metadata": {},
   "outputs": [
    {
     "name": "stdout",
     "output_type": "stream",
     "text": [
      "0\n",
      "1\n"
     ]
    }
   ],
   "source": [
    "#b\n",
    "for i in range(2):\n",
    "    print(i)"
   ]
  },
  {
   "cell_type": "code",
   "execution_count": 4,
   "metadata": {},
   "outputs": [
    {
     "name": "stdout",
     "output_type": "stream",
     "text": [
      "3\n",
      "4\n",
      "5\n",
      "6\n",
      "7\n",
      "8\n",
      "9\n",
      "10\n",
      "11\n",
      "12\n"
     ]
    }
   ],
   "source": [
    "#3.7\n",
    "#a\n",
    "for i in range(3,13):\n",
    "    print(i)"
   ]
  },
  {
   "cell_type": "code",
   "execution_count": 5,
   "metadata": {},
   "outputs": [
    {
     "name": "stdout",
     "output_type": "stream",
     "text": [
      "0\n",
      "2\n",
      "4\n",
      "6\n",
      "8\n"
     ]
    }
   ],
   "source": [
    "#b\n",
    "for i in range(0,9,2):\n",
    "    print(i)"
   ]
  },
  {
   "cell_type": "code",
   "execution_count": 6,
   "metadata": {},
   "outputs": [
    {
     "name": "stdout",
     "output_type": "stream",
     "text": [
      "0\n",
      "3\n",
      "6\n",
      "9\n",
      "12\n",
      "15\n",
      "18\n",
      "21\n"
     ]
    }
   ],
   "source": [
    "#c\n",
    "for i in range(0,24,3):\n",
    "    print(i)"
   ]
  },
  {
   "cell_type": "code",
   "execution_count": 7,
   "metadata": {},
   "outputs": [
    {
     "name": "stdout",
     "output_type": "stream",
     "text": [
      "3\n",
      "8\n"
     ]
    }
   ],
   "source": [
    "#d\n",
    "for i in range(3,12,5):\n",
    "    print(i)"
   ]
  },
  {
   "cell_type": "code",
   "execution_count": 8,
   "metadata": {},
   "outputs": [
    {
     "data": {
      "text/plain": [
       "12.566370614359172"
      ]
     },
     "execution_count": 8,
     "metadata": {},
     "output_type": "execute_result"
    }
   ],
   "source": [
    "#3.8\n",
    "from math import pi\n",
    "def peri(r):\n",
    "    result = 2 * pi * r\n",
    "    return result\n",
    "peri(2)"
   ]
  },
  {
   "cell_type": "code",
   "execution_count": 9,
   "metadata": {},
   "outputs": [
    {
     "data": {
      "text/plain": [
       "7.5"
      ]
     },
     "execution_count": 9,
     "metadata": {},
     "output_type": "execute_result"
    }
   ],
   "source": [
    "#3.9\n",
    "def average(num1, num2):\n",
    "    result = (num1 + num2) /2\n",
    "    return result\n",
    "average(7,8)"
   ]
  },
  {
   "cell_type": "code",
   "execution_count": 10,
   "metadata": {},
   "outputs": [
    {
     "name": "stdout",
     "output_type": "stream",
     "text": [
      "Enter text: hello\n"
     ]
    },
    {
     "data": {
      "text/plain": [
       "False"
      ]
     },
     "execution_count": 10,
     "metadata": {},
     "output_type": "execute_result"
    }
   ],
   "source": [
    "#3.10\n",
    "def noVowel(text):\n",
    "    for i in text:\n",
    "        if i in \"aeiouAEIOU\":\n",
    "            return False\n",
    "    return True\n",
    "text = str(input(\"Enter text: \"))\n",
    "noVowel(text)"
   ]
  },
  {
   "cell_type": "code",
   "execution_count": 11,
   "metadata": {},
   "outputs": [
    {
     "data": {
      "text/plain": [
       "True"
      ]
     },
     "execution_count": 11,
     "metadata": {},
     "output_type": "execute_result"
    }
   ],
   "source": [
    "#3.11\n",
    "#a\n",
    "list = [8,0,-2,4,-6,10]\n",
    "def allEven(list):\n",
    "    for i in list:\n",
    "        if (i % 2 == 0):\n",
    "            return True\n",
    "    return False\n",
    "allEven(list)"
   ]
  },
  {
   "cell_type": "code",
   "execution_count": 12,
   "metadata": {},
   "outputs": [
    {
     "data": {
      "text/plain": [
       "False"
      ]
     },
     "execution_count": 12,
     "metadata": {},
     "output_type": "execute_result"
    }
   ],
   "source": [
    "#b\n",
    "list = [8,0,-1,4,-6,10]\n",
    "def allEven(list):\n",
    "    for i in list:\n",
    "        if (i % 2 == 0):\n",
    "            return False\n",
    "    return True\n",
    "allEven(list)  "
   ]
  },
  {
   "cell_type": "code",
   "execution_count": 13,
   "metadata": {},
   "outputs": [
    {
     "name": "stdout",
     "output_type": "stream",
     "text": [
      "-1\n",
      "-3\n",
      "-9\n"
     ]
    }
   ],
   "source": [
    "#3.12\n",
    "list = [4,0,-1,-3,6,-9]\n",
    "def negatives(list):\n",
    "    for i in list:\n",
    "        if i < 0:\n",
    "            print(i)\n",
    "    return\n",
    "negatives(list)"
   ]
  },
  {
   "cell_type": "code",
   "execution_count": 14,
   "metadata": {},
   "outputs": [
    {
     "name": "stdout",
     "output_type": "stream",
     "text": [
      "Help on function average in module __main__:\n",
      "\n",
      "average(num1, num2)\n",
      "    #3.13\n",
      "    #a\n",
      "\n"
     ]
    },
    {
     "data": {
      "text/plain": [
       "3.5"
      ]
     },
     "execution_count": 14,
     "metadata": {},
     "output_type": "execute_result"
    }
   ],
   "source": [
    "#3.13\n",
    "#a\n",
    "def average(num1,num2):\n",
    "    result = (num1 + num2) / 2\n",
    "    return result\n",
    "help(average)\n",
    "average(3,4)"
   ]
  },
  {
   "cell_type": "code",
   "execution_count": 15,
   "metadata": {},
   "outputs": [
    {
     "name": "stdout",
     "output_type": "stream",
     "text": [
      "Help on function negatives in module __main__:\n",
      "\n",
      "negatives(list)\n",
      "\n",
      "-1\n",
      "-3\n",
      "-9\n"
     ]
    }
   ],
   "source": [
    "#b\n",
    "list = [4,0,-1,-3,6,-9]\n",
    "def negatives(list):\n",
    "    for i in list:\n",
    "        if i < 0:\n",
    "            print(i)\n",
    "    return\n",
    "help(negatives)\n",
    "negatives(list)"
   ]
  },
  {
   "cell_type": "code",
   "execution_count": 16,
   "metadata": {},
   "outputs": [
    {
     "name": "stdout",
     "output_type": "stream",
     "text": [
      "[5, 6, 7]\n",
      "[5, 6, 7]\n",
      "3\n"
     ]
    }
   ],
   "source": [
    "#3.14\n",
    "a = [5,6,7]\n",
    "print(a)\n",
    "b = a\n",
    "print(b)\n",
    "a =3\n",
    "print(a)"
   ]
  },
  {
   "cell_type": "code",
   "execution_count": 67,
   "metadata": {},
   "outputs": [
    {
     "name": "stdout",
     "output_type": "stream",
     "text": [
      "['Sarah', 'Eleanor', 'Clare', 'Ava']\n"
     ]
    }
   ],
   "source": [
    "#3.15\n",
    "team = [\"Ava\", \"Eleanor\", \"Clare\", \"Sarah\"]\n",
    "temp = team[0]\n",
    "team[0] = team[-1]\n",
    "team[-1] = temp\n",
    "print(team)"
   ]
  },
  {
   "cell_type": "code",
   "execution_count": 17,
   "metadata": {},
   "outputs": [
    {
     "name": "stdout",
     "output_type": "stream",
     "text": [
      "['apples', 'sugar', 'butter', 'flour']\n"
     ]
    }
   ],
   "source": [
    "#3.16\n",
    "list = [\"flour\", \"sugar\", \"butter\", \"apples\"]\n",
    "def swapFL():\n",
    "    temp = list[0]\n",
    "    list[0] = list[-1]\n",
    "    list[-1] = temp\n",
    "    print(list)\n",
    "    return\n",
    "swapFL()"
   ]
  },
  {
   "cell_type": "code",
   "execution_count": 20,
   "metadata": {},
   "outputs": [
    {
     "name": "stdout",
     "output_type": "stream",
     "text": [
      "7\n",
      "hello\n",
      "hello world\n",
      "2\n",
      "x = 5\n"
     ]
    }
   ],
   "source": [
    "#3.17\n",
    "#a\n",
    "x = eval('2*3+1')\n",
    "print(x)\n",
    "#b\n",
    "y = eval(\"'hello'\")\n",
    "print(y)\n",
    "#c\n",
    "z = eval(\"'hello' +' '+'world'\")\n",
    "print(z)\n",
    "#d\n",
    "a = eval(\"'ASCII'.count('I')\")\n",
    "print(a)\n",
    "#e\n",
    "b = eval(\"'x = 5'\")\n",
    "print(b)"
   ]
  },
  {
   "cell_type": "code",
   "execution_count": 21,
   "metadata": {},
   "outputs": [
    {
     "name": "stdout",
     "output_type": "stream",
     "text": [
      "OK\n",
      "OK\n"
     ]
    }
   ],
   "source": [
    "#3.18\n",
    "a = 3\n",
    "b = 4\n",
    "c = 5\n",
    "#a\n",
    "if a < b:\n",
    "    print(\"OK\")\n",
    "    \n",
    "#b\n",
    "if c < b:\n",
    "    print(\"OK\")\n",
    "    \n",
    "#c\n",
    "if (a + b) == c:\n",
    "    print(\"OK\")\n",
    "    \n",
    "#d\n",
    "if ((a**2) + (b**2)) == (c**2):\n",
    "    print(\"OK\")"
   ]
  },
  {
   "cell_type": "code",
   "execution_count": 22,
   "metadata": {},
   "outputs": [
    {
     "name": "stdout",
     "output_type": "stream",
     "text": [
      "NOT OK\n",
      "NOT OK\n"
     ]
    }
   ],
   "source": [
    "#3.19\n",
    "a = 3\n",
    "b = 4\n",
    "c = 5\n",
    "#a\n",
    "if a < b:\n",
    "    print(\"NOT OK\")\n",
    "    \n",
    "#b\n",
    "if c < b:\n",
    "    print(\"NOT OK\")\n",
    "    \n",
    "#c\n",
    "if (a + b) == c:\n",
    "    print(\"NOT OK\")\n",
    "    \n",
    "#d\n",
    "if ((a**2) + (b**2)) == (c**2):\n",
    "    print(\"NOT OK\")"
   ]
  },
  {
   "cell_type": "code",
   "execution_count": 24,
   "metadata": {},
   "outputs": [
    {
     "name": "stdout",
     "output_type": "stream",
     "text": [
      "Jan\n",
      "Feb\n",
      "Mar\n"
     ]
    }
   ],
   "source": [
    "#3.20\n",
    "lst = [\"January\",\"Febuary\",\"March\"]\n",
    "for i in lst:\n",
    "    print(i[:3])"
   ]
  },
  {
   "cell_type": "code",
   "execution_count": 25,
   "metadata": {},
   "outputs": [
    {
     "name": "stdout",
     "output_type": "stream",
     "text": [
      "2\n",
      "4\n",
      "6\n",
      "8\n"
     ]
    }
   ],
   "source": [
    "#3.21\n",
    "lst = [2,3,4,5,6,7,8,9]\n",
    "for i in lst:\n",
    "    if(i % 2 == 0):\n",
    "        print(i)"
   ]
  },
  {
   "cell_type": "code",
   "execution_count": 26,
   "metadata": {},
   "outputs": [
    {
     "name": "stdout",
     "output_type": "stream",
     "text": [
      "4\n",
      "8\n"
     ]
    }
   ],
   "source": [
    "#3.22\n",
    "lst = [2,3,4,5,6,7,8,9]\n",
    "for i in lst:\n",
    "    if((i**2) % 8 == 0):\n",
    "        print(i)"
   ]
  },
  {
   "cell_type": "code",
   "execution_count": 27,
   "metadata": {},
   "outputs": [
    {
     "name": "stdout",
     "output_type": "stream",
     "text": [
      "0 1 "
     ]
    }
   ],
   "source": [
    "#3.23\n",
    "#a\n",
    "for i in range(0,2):\n",
    "    print(i, end = \" \")"
   ]
  },
  {
   "cell_type": "code",
   "execution_count": 28,
   "metadata": {},
   "outputs": [
    {
     "name": "stdout",
     "output_type": "stream",
     "text": [
      "0 "
     ]
    }
   ],
   "source": [
    "#b\n",
    "for i in range(0,1):\n",
    "    print(i, end = \" \")"
   ]
  },
  {
   "cell_type": "code",
   "execution_count": 29,
   "metadata": {},
   "outputs": [
    {
     "name": "stdout",
     "output_type": "stream",
     "text": [
      "3 4 5 6 "
     ]
    }
   ],
   "source": [
    "#c\n",
    "for i in range(3,7):\n",
    "    print(i, end = \" \")"
   ]
  },
  {
   "cell_type": "code",
   "execution_count": 30,
   "metadata": {},
   "outputs": [
    {
     "name": "stdout",
     "output_type": "stream",
     "text": [
      "1 "
     ]
    }
   ],
   "source": [
    "#d\n",
    "for i in range(1,2):\n",
    "    print(i, end = \" \")"
   ]
  },
  {
   "cell_type": "code",
   "execution_count": 31,
   "metadata": {},
   "outputs": [
    {
     "name": "stdout",
     "output_type": "stream",
     "text": [
      "0 3 "
     ]
    }
   ],
   "source": [
    "#e\n",
    "for i in range(0,4,3):\n",
    "    print(i, end = \" \")"
   ]
  },
  {
   "cell_type": "code",
   "execution_count": 32,
   "metadata": {},
   "outputs": [
    {
     "name": "stdout",
     "output_type": "stream",
     "text": [
      "5 9 13 17 21 "
     ]
    }
   ],
   "source": [
    "#f\n",
    "for i in range(5,22,4):\n",
    "    print(i, end = \" \")"
   ]
  },
  {
   "cell_type": "code",
   "execution_count": 33,
   "metadata": {},
   "outputs": [
    {
     "name": "stdout",
     "output_type": "stream",
     "text": [
      "Enter the number you want to add to list: 4\n",
      "Enter the text to list: of\n",
      "Enter the text to list: on\n",
      "Enter the text to list: is\n",
      "Enter the text to list: the\n",
      "['of', 'on', 'is', 'the']\n",
      "['of', 'on', 'is', 'the']\n"
     ]
    }
   ],
   "source": [
    "#3.24\n",
    "n = int(input(\"Enter the number you want to add to list: \"))\n",
    "list = []\n",
    "for i in range(0,n):\n",
    "    text = str(input(\"Enter the text to list: \"))\n",
    "    list.append(text)\n",
    "print(list)\n",
    "\n",
    "for a in list:\n",
    "    if a == \"secret\":\n",
    "        list.remove(\"secret\")\n",
    "print(list)"
   ]
  },
  {
   "cell_type": "code",
   "execution_count": 34,
   "metadata": {},
   "outputs": [
    {
     "name": "stdout",
     "output_type": "stream",
     "text": [
      "Enter the number you want to add to list: 5\n",
      "Enter the text to list: Ellie\n",
      "Enter the text to list: Steve\n",
      "Enter the text to list: Sam\n",
      "Enter the text to list: Owen\n",
      "Enter the text to list: Gavin\n",
      "['Ellie', 'Steve', 'Sam', 'Owen', 'Gavin']\n",
      "Ellie\n",
      "Gavin\n"
     ]
    }
   ],
   "source": [
    "#3.25\n",
    "n = int(input(\"Enter the number you want to add to list: \"))\n",
    "list = []\n",
    "for i in range(0,n):\n",
    "    text = str(input(\"Enter the text to list: \"))\n",
    "    list.append(text)\n",
    "print(list)\n",
    "\n",
    "for i in list:\n",
    "    if i[0] in \"ABCDEFGHIKLM\":\n",
    "        print(i)"
   ]
  },
  {
   "cell_type": "code",
   "execution_count": 35,
   "metadata": {},
   "outputs": [
    {
     "name": "stdout",
     "output_type": "stream",
     "text": [
      "Enter the first Element of the list: 2\n",
      "Enter the last Element of the list: 8\n",
      "[2, 4, 6]\n"
     ]
    }
   ],
   "source": [
    "#3.26\n",
    "list = []\n",
    "firstElement = int(input(\"Enter the first Element of the list: \"))\n",
    "lastElement = int(input(\"Enter the last Element of the list: \"))\n",
    "for i in range(firstElement,lastElement, 2):\n",
    "    list.append(i)\n",
    "print(list)"
   ]
  },
  {
   "cell_type": "code",
   "execution_count": 37,
   "metadata": {},
   "outputs": [
    {
     "name": "stdout",
     "output_type": "stream",
     "text": [
      "Enter the positive number: 5\n",
      "5\n",
      "5\n",
      "5\n",
      "5\n"
     ]
    }
   ],
   "source": [
    "#3.27\n",
    "n = int(input(\"Enter the positive number: \"))\n",
    "for i in range(0,4):\n",
    "    result = n * 1\n",
    "    print(result)"
   ]
  },
  {
   "cell_type": "code",
   "execution_count": 38,
   "metadata": {},
   "outputs": [
    {
     "name": "stdout",
     "output_type": "stream",
     "text": [
      "Enter the positive number: 3\n",
      "0\n",
      "1\n",
      "4\n"
     ]
    }
   ],
   "source": [
    "#3.28\n",
    "n = int(input(\"Enter the positive number: \"))\n",
    "for i in range(0,n):\n",
    "    result = i ** 2\n",
    "    print(result)"
   ]
  },
  {
   "cell_type": "code",
   "execution_count": 39,
   "metadata": {},
   "outputs": [
    {
     "name": "stdout",
     "output_type": "stream",
     "text": [
      "Enter the positive number: 59\n",
      "1\n",
      "59\n"
     ]
    }
   ],
   "source": [
    "#3.29\n",
    "n = int(input(\"Enter the positive number: \"))\n",
    "for i in range(1, n+1):\n",
    "    if (n % i == 0):\n",
    "        print(i)"
   ]
  },
  {
   "cell_type": "code",
   "execution_count": 41,
   "metadata": {},
   "outputs": [
    {
     "name": "stdout",
     "output_type": "stream",
     "text": [
      "Enter the number: 4.5\n",
      "Enter the number: 3\n",
      "Enter the number: 3\n",
      "Enter the number: 3.5\n",
      "Equal\n"
     ]
    }
   ],
   "source": [
    "#3.30\n",
    "num1 = eval(input(\"Enter the number: \"))\n",
    "num2 = eval(input(\"Enter the number: \"))\n",
    "num3 = eval(input(\"Enter the number: \"))\n",
    "num4 = eval(input(\"Enter the number: \"))\n",
    "average = (num1 + num2 + num3) /3\n",
    "if average == num4:\n",
    "    print(\"Equal\")"
   ]
  },
  {
   "cell_type": "code",
   "execution_count": 42,
   "metadata": {},
   "outputs": [
    {
     "name": "stdout",
     "output_type": "stream",
     "text": [
      "Enter the x coordinate: 2\n",
      "Enter the y coordinate: 4\n",
      "It is in\n"
     ]
    }
   ],
   "source": [
    "#3.31\n",
    "x = eval(input(\"Enter the x coordinate: \"))\n",
    "y = eval(input(\"Enter the y coordinate: \"))\n",
    "if (x and y) <= 10 and (x and y) >= -10:\n",
    "    print(\"It is in\")"
   ]
  },
  {
   "cell_type": "code",
   "execution_count": 69,
   "metadata": {},
   "outputs": [
    {
     "name": "stdout",
     "output_type": "stream",
     "text": [
      "Enter the number: 567\n",
      "5\n",
      "6\n",
      "7\n"
     ]
    }
   ],
   "source": [
    "#3.32\n",
    "num = int(input(\"Enter the number: \"))\n",
    "for i in repr(num):\n",
    "    if i.isdigit():\n",
    "        print(i)"
   ]
  },
  {
   "cell_type": "code",
   "execution_count": 43,
   "metadata": {},
   "outputs": [
    {
     "name": "stdout",
     "output_type": "stream",
     "text": [
      "Enter the string: abc\n",
      "cba\n",
      "Enter the string: mno\n",
      "onm\n"
     ]
    }
   ],
   "source": [
    "#3.33\n",
    "#a\n",
    "string = str(input(\"Enter the string: \"))\n",
    "def reverse_string(string):\n",
    "    print(string[:: -1])\n",
    "    return\n",
    "reverse_string(string)\n",
    "#b\n",
    "string = str(input(\"Enter the string: \"))\n",
    "reverse_string(string)"
   ]
  },
  {
   "cell_type": "code",
   "execution_count": 46,
   "metadata": {},
   "outputs": [
    {
     "name": "stdout",
     "output_type": "stream",
     "text": [
      "Enter the hourly wage: 10\n",
      "Enter the number of hours employee worked in last week: 35\n",
      "Employee payment is:  350\n",
      "Enter the hourly wage: 10\n",
      "Enter the number of hours employee worked in last week: 45\n",
      "Emplyee payment is:  475.0\n"
     ]
    }
   ],
   "source": [
    "#3.34\n",
    "#a\n",
    "def pay(wages, hoursWorked):\n",
    "    if hoursWorked > 40:\n",
    "        payment = (wages * 40) + ((wages * 1.5) * (hoursWorked - 40))\n",
    "        print(\"Emplyee payment is: \", payment)\n",
    "    else:\n",
    "        payment = wages * hoursWorked\n",
    "        print(\"Employee payment is: \",payment)\n",
    "    return\n",
    "wages = eval(input(\"Enter the hourly wage: \"))\n",
    "hoursWorked = eval(input(\"Enter the number of hours employee worked in last week: \"))\n",
    "pay(wages , hoursWorked)\n",
    "\n",
    "#b\n",
    "wages = eval(input(\"Enter the hourly wage: \"))\n",
    "hoursWorked = eval(input(\"Enter the number of hours employee worked in last week: \"))\n",
    "pay(wages, hoursWorked)"
   ]
  },
  {
   "cell_type": "code",
   "execution_count": 47,
   "metadata": {},
   "outputs": [
    {
     "name": "stdout",
     "output_type": "stream",
     "text": [
      "Enter the number: 4\n",
      "0.0625\n",
      "Enter the number: 5\n",
      "0.03125\n"
     ]
    }
   ],
   "source": [
    "#3.35\n",
    "# part a\n",
    "def prob(n):\n",
    "    p = 2 ** (-n)\n",
    "    print(p)\n",
    "    return\n",
    "n = int(input(\"Enter the number: \"))\n",
    "prob(n)\n",
    "\n",
    "# part b\n",
    "n = int(input(\"Enter the number: \"))\n",
    "prob(n)"
   ]
  },
  {
   "cell_type": "code",
   "execution_count": 48,
   "metadata": {},
   "outputs": [
    {
     "name": "stdout",
     "output_type": "stream",
     "text": [
      "Enter the number: 456\n",
      "654\n"
     ]
    }
   ],
   "source": [
    "#3.36\n",
    "def reverse_int(number):\n",
    "    reverse = 0\n",
    "    while (number > 0):\n",
    "        reminder = number % 10\n",
    "        reverse = (reverse * 10) + reminder\n",
    "        number = number // 10\n",
    "    print(reverse)\n",
    "    return\n",
    "number = int(input(\"Enter the number: \"))\n",
    "reverse_int(number)"
   ]
  },
  {
   "cell_type": "code",
   "execution_count": 49,
   "metadata": {},
   "outputs": [
    {
     "name": "stdout",
     "output_type": "stream",
     "text": [
      "Enter the first x coordinate: 4\n",
      "Enter the first y coordinate: 6\n",
      "Enter the second x coordinate: 5\n",
      "Enter the second y  coordinate: 7\n",
      "The slope is:  1.0 \n",
      "The distance between two point is:  1.4142135623730951 cm\n",
      "Enter the first x coordinate: 5\n",
      "Enter the first y coordinate: 8\n",
      "Enter the second x coordinate: 3\n",
      "Enter the second y  coordinate: 2\n",
      "The slope is:  3.0 \n",
      "The distance between two point is:  6.324555320336759 cm\n"
     ]
    }
   ],
   "source": [
    "#3.37\n",
    "# part a\n",
    "from math import sqrt\n",
    "def point(x1,y1,x2,y2):\n",
    "    if (x1 - x2) == 0:\n",
    "        distance = sqrt((x2 - x1)**2 + (y2 - y1)**2)\n",
    "        print(\"Slope is infinity and distance between two point is: \", distance, \"cm\")\n",
    "    else:\n",
    "        slope = (y2 - y1) / (x2 - x1)\n",
    "        distance = sqrt((x2 - x1)**2 + (y2 - y1)**2)\n",
    "        print(\"The slope is: \", slope, \"\\nThe distance between two point is: \",distance,\"cm\")\n",
    "    return\n",
    "x1 = int(input(\"Enter the first x coordinate: \"))\n",
    "y1 = int(input(\"Enter the first y coordinate: \"))\n",
    "x2 = int(input(\"Enter the second x coordinate: \"))\n",
    "y2 = int(input(\"Enter the second y  coordinate: \"))\n",
    "point(x1,y1,x2,y2)\n",
    "\n",
    "# part b\n",
    "x1 = int(input(\"Enter the first x coordinate: \"))\n",
    "y1 = int(input(\"Enter the first y coordinate: \"))\n",
    "x2 = int(input(\"Enter the second x coordinate: \"))\n",
    "y2 = int(input(\"Enter the second y  coordinate: \"))\n",
    "point(x1,y1,x2,y2)"
   ]
  },
  {
   "cell_type": "code",
   "execution_count": 50,
   "metadata": {},
   "outputs": [
    {
     "name": "stdout",
     "output_type": "stream",
     "text": [
      "Enter the day of a week: friday\n",
      "fr\n"
     ]
    }
   ],
   "source": [
    "#3.38\n",
    "def abbreviation(day):\n",
    "    print(day[:2])\n",
    "    return\n",
    "day = str(input(\"Enter the day of a week: \"))\n",
    "abbreviation(day)"
   ]
  },
  {
   "cell_type": "code",
   "execution_count": 52,
   "metadata": {},
   "outputs": [
    {
     "name": "stdout",
     "output_type": "stream",
     "text": [
      "Enter the x coordinate of first circle: 1\n",
      "Enter the y coordinate of first circle: 2\n",
      "Enter the radius of first circle: 3\n",
      "Enter the x coordinate of second circle: 4\n",
      "Enter the y coordinate of second circle: 5\n",
      "Enter the radius of second circle: 4\n",
      "\n",
      "\n",
      "Enter the x coordinate of first circle: 5\n",
      "Enter the y coordinate of first circle: 3\n",
      "Enter the radius of first circle: 4\n",
      "Enter the x coordinate of second circle: 2\n",
      "Enter the y coordinate of second circle: 5\n",
      "Enter the radius of second circle: 3\n"
     ]
    },
    {
     "data": {
      "text/plain": [
       "False"
      ]
     },
     "execution_count": 52,
     "metadata": {},
     "output_type": "execute_result"
    }
   ],
   "source": [
    "#3.39\n",
    "# part a\n",
    "def collision(x1, y1, r1, x2, y2, r2):\n",
    "    if (x1 == x2) and (r1 == r2):\n",
    "        print(\"True\")\n",
    "    else:\n",
    "        return False\n",
    "x1 = eval(input(\"Enter the x coordinate of first circle: \"))\n",
    "y1 = eval(input(\"Enter the y coordinate of first circle: \"))\n",
    "r1 = eval(input(\"Enter the radius of first circle: \"))\n",
    "x2 = eval(input(\"Enter the x coordinate of second circle: \"))\n",
    "y2 = eval(input(\"Enter the y coordinate of second circle: \"))\n",
    "r2 = eval(input(\"Enter the radius of second circle: \"))\n",
    "collision(x1, y1, r1, x2, y2, r2)\n",
    "print(\"\\n\")\n",
    "\n",
    "# part b\n",
    "x1 = eval(input(\"Enter the x coordinate of first circle: \"))\n",
    "y1 = eval(input(\"Enter the y coordinate of first circle: \"))\n",
    "r1 = eval(input(\"Enter the radius of first circle: \"))\n",
    "x2 = eval(input(\"Enter the x coordinate of second circle: \"))\n",
    "y2 = eval(input(\"Enter the y coordinate of second circle: \"))\n",
    "r2 = eval(input(\"Enter the radius of second circle: \"))\n",
    "collision(x1, y1, r1, x2, y2, r2)"
   ]
  },
  {
   "cell_type": "code",
   "execution_count": 53,
   "metadata": {},
   "outputs": [
    {
     "name": "stdout",
     "output_type": "stream",
     "text": [
      "Eleanor\n",
      "Evelyn\n",
      "Gavin\n"
     ]
    }
   ],
   "source": [
    "#3.40\n",
    "def partition(list):\n",
    "    for i in list:\n",
    "        if i[0] in \"ABCDEFGHIJKLM\":\n",
    "            print(i)\n",
    "partition([\"Eleanor\", \"Evelyn\", \"Sammy\", \"Owen\", \"Gavin\"])"
   ]
  },
  {
   "cell_type": "code",
   "execution_count": 54,
   "metadata": {},
   "outputs": [
    {
     "name": "stdout",
     "output_type": "stream",
     "text": [
      "Enter your first name: areesha\n",
      "Enter your last name: imtiaz\n",
      "imtiaz,a\n"
     ]
    }
   ],
   "source": [
    "#3.41\n",
    "def lastF(firstName, lastName):\n",
    "    print(lastName + \",\" + firstName[:1])\n",
    "    return\n",
    "firstName = str(input(\"Enter your first name: \"))\n",
    "lastName = str(input(\"Enter your last name: \"))\n",
    "lastF(firstName, lastName)"
   ]
  },
  {
   "cell_type": "code",
   "execution_count": 55,
   "metadata": {},
   "outputs": [
    {
     "name": "stdout",
     "output_type": "stream",
     "text": [
      " 90.0 \n",
      " 60.0 \n",
      " 87.0 \n",
      " 11.0\n"
     ]
    }
   ],
   "source": [
    "#3.42\n",
    "def avg(l1, l2, l3, l4):\n",
    "    a1 = sum(l1)/len(l1)\n",
    "    a2 = sum(l2)/len(l2)\n",
    "    a3 = sum(l3)/len(l3)\n",
    "    a4 = sum(l4)/len(l4)\n",
    "    print(\"\", a1,\"\\n\", a2,\"\\n\", a3,\"\\n\", a4)\n",
    "    return\n",
    "avg([95, 92, 86, 87], [66, 54], [89, 72, 100], [33, 0, 0])"
   ]
  },
  {
   "cell_type": "code",
   "execution_count": 56,
   "metadata": {},
   "outputs": [
    {
     "name": "stdout",
     "output_type": "stream",
     "text": [
      "True\n",
      "False\n"
     ]
    }
   ],
   "source": [
    "#3.43\n",
    "def hit(x1, y1, r1, x2, y2):\n",
    "    if (x2 <= r1) and (y2 <= r1):\n",
    "        print(\"True\")\n",
    "    else:\n",
    "        print(\"False\")\n",
    "    return\n",
    "hit(0, 0, 3, 3, 0)\n",
    "hit(0, 0, 3, 4, 0)"
   ]
  },
  {
   "cell_type": "code",
   "execution_count": 57,
   "metadata": {},
   "outputs": [
    {
     "name": "stdout",
     "output_type": "stream",
     "text": [
      "Distance of Thunder is:  1.0208700000000002 km\n"
     ]
    }
   ],
   "source": [
    "#3.44\n",
    "def distance(time):\n",
    "    speed = 340.29\n",
    "    dist = speed * time\n",
    "    print(\"Distance of Thunder is: \",dist / 1000, \"km\")\n",
    "    return\n",
    "distance(3)"
   ]
  },
  {
   "cell_type": "code",
   "execution_count": null,
   "metadata": {},
   "outputs": [],
   "source": []
  }
 ],
 "metadata": {
  "kernelspec": {
   "display_name": "Python 3",
   "language": "python",
   "name": "python3"
  },
  "language_info": {
   "codemirror_mode": {
    "name": "ipython",
    "version": 3
   },
   "file_extension": ".py",
   "mimetype": "text/x-python",
   "name": "python",
   "nbconvert_exporter": "python",
   "pygments_lexer": "ipython3",
   "version": "3.7.3"
  }
 },
 "nbformat": 4,
 "nbformat_minor": 2
}
